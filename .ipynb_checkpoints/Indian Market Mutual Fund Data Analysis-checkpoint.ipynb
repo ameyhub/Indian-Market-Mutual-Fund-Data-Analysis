{
 "cells": [
  {
   "cell_type": "code",
   "execution_count": 9,
   "id": "6574f1f2",
   "metadata": {},
   "outputs": [],
   "source": [
    "import findspark\n",
    "findspark.init()"
   ]
  },
  {
   "cell_type": "code",
   "execution_count": 12,
   "id": "0bd22b5c",
   "metadata": {},
   "outputs": [],
   "source": [
    "from pyspark.sql import SparkSession\n",
    "\n",
    "spark = SparkSession.builder.master(\"local\").appName(\"Test Spark\").getOrCreate()\n",
    "\n",
    "sc = spark.sparkContext"
   ]
  },
  {
   "cell_type": "code",
   "execution_count": 13,
   "id": "50f9f4f0",
   "metadata": {},
   "outputs": [
    {
     "data": {
      "text/html": [
       "\n",
       "            <div>\n",
       "                <p><b>SparkSession - in-memory</b></p>\n",
       "                \n",
       "        <div>\n",
       "            <p><b>SparkContext</b></p>\n",
       "\n",
       "            <p><a href=\"http://192.168.29.19:4041\">Spark UI</a></p>\n",
       "\n",
       "            <dl>\n",
       "              <dt>Version</dt>\n",
       "                <dd><code>v3.4.1</code></dd>\n",
       "              <dt>Master</dt>\n",
       "                <dd><code>local</code></dd>\n",
       "              <dt>AppName</dt>\n",
       "                <dd><code>Test Spark</code></dd>\n",
       "            </dl>\n",
       "        </div>\n",
       "        \n",
       "            </div>\n",
       "        "
      ],
      "text/plain": [
       "<pyspark.sql.session.SparkSession at 0x7fb431de9d90>"
      ]
     },
     "execution_count": 13,
     "metadata": {},
     "output_type": "execute_result"
    }
   ],
   "source": [
    "spark"
   ]
  },
  {
   "cell_type": "code",
   "execution_count": 25,
   "id": "d696845a",
   "metadata": {},
   "outputs": [],
   "source": [
    "## read the dataframe"
   ]
  },
  {
   "cell_type": "code",
   "execution_count": 46,
   "id": "b1e820b2",
   "metadata": {},
   "outputs": [],
   "source": [
    "indianMF_df = spark.read.csv(\"dataset/indian_mutual_funds_dataset.csv\")"
   ]
  },
  {
   "cell_type": "code",
   "execution_count": 47,
   "id": "9df1936a",
   "metadata": {},
   "outputs": [
    {
     "data": {
      "text/plain": [
       "DataFrame[_c0: string, _c1: string, _c2: string, _c3: string, _c4: string, _c5: string, _c6: string, _c7: string, _c8: string, _c9: string, _c10: string, _c11: string, _c12: string, _c13: string, _c14: string, _c15: string, _c16: string, _c17: string, _c18: string, _c19: string]"
      ]
     },
     "execution_count": 47,
     "metadata": {},
     "output_type": "execute_result"
    }
   ],
   "source": [
    "indianMF_df"
   ]
  },
  {
   "cell_type": "code",
   "execution_count": 48,
   "id": "773d0020",
   "metadata": {},
   "outputs": [],
   "source": [
    "#spark.read.option('header','true').csv('dataset/indian_mutual_funds_dataset.csv').show()"
   ]
  },
  {
   "cell_type": "markdown",
   "id": "11bbb4e7",
   "metadata": {},
   "source": [
    "#### if we didn't add inferschema, by default it will take dataset as string value, and if we use inferschema it will show the interger value as interger"
   ]
  },
  {
   "cell_type": "code",
   "execution_count": 50,
   "id": "08df2006",
   "metadata": {},
   "outputs": [],
   "source": [
    "indianMF_df = spark.read.option('header','true').csv('dataset/indian_mutual_funds_dataset.csv', inferSchema=True)"
   ]
  },
  {
   "cell_type": "code",
   "execution_count": 51,
   "id": "f2ebd778",
   "metadata": {},
   "outputs": [
    {
     "data": {
      "text/plain": [
       "pyspark.sql.dataframe.DataFrame"
      ]
     },
     "execution_count": 51,
     "metadata": {},
     "output_type": "execute_result"
    }
   ],
   "source": [
    "type(indianMF_df)"
   ]
  },
  {
   "cell_type": "code",
   "execution_count": 52,
   "id": "a7a4b093",
   "metadata": {},
   "outputs": [
    {
     "data": {
      "text/plain": [
       "DataFrame[scheme_name: string, min_sip: int, min_lumpsum: int, expense_ratio: double, fund_size_cr: double, fund_age_yr: int, fund_manager: string, sortino: string, alpha: string, sd: string, beta: string, sharpe: string, risk_level: int, amc_name: string, rating: int, category: string, sub_category: string, returns_1yr: double, returns_3yr: double, returns_5yr: double]"
      ]
     },
     "execution_count": 52,
     "metadata": {},
     "output_type": "execute_result"
    }
   ],
   "source": [
    "indianMF_df"
   ]
  },
  {
   "cell_type": "code",
   "execution_count": 53,
   "id": "3fca4a99",
   "metadata": {},
   "outputs": [
    {
     "data": {
      "text/plain": [
       "[Row(scheme_name='Aditya Birla SL Active Debt Multi-Mgr FoF-Dir Growth', min_sip=100, min_lumpsum=100, expense_ratio=0.27, fund_size_cr=10.0, fund_age_yr=10, fund_manager='Kaustubh Gupta', sortino='0.32', alpha='2.24', sd='9.39', beta='0.01', sharpe='0.24', risk_level=3, amc_name='Aditya Birla Sun Life Mutual Fund', rating=3, category='Other', sub_category='FoFs Domestic', returns_1yr=4.0, returns_3yr=6.5, returns_5yr=6.9),\n",
       " Row(scheme_name='Aditya Birla SL Arbitrage Fund', min_sip=1000, min_lumpsum=1000, expense_ratio=0.36, fund_size_cr=4288.0, fund_age_yr=10, fund_manager='Lovelish Solanki', sortino='1.33', alpha='1.53', sd='0.72', beta='0.56', sharpe='1.1', risk_level=1, amc_name='Aditya Birla Sun Life Mutual Fund', rating=3, category='Hybrid', sub_category='Arbitrage Mutual Funds', returns_1yr=5.6, returns_3yr=4.8, returns_5yr=5.5)]"
      ]
     },
     "execution_count": 53,
     "metadata": {},
     "output_type": "execute_result"
    }
   ],
   "source": [
    "indianMF_df.head(2)"
   ]
  },
  {
   "cell_type": "code",
   "execution_count": 54,
   "id": "be73a970",
   "metadata": {},
   "outputs": [
    {
     "name": "stdout",
     "output_type": "stream",
     "text": [
      "root\n",
      " |-- scheme_name: string (nullable = true)\n",
      " |-- min_sip: integer (nullable = true)\n",
      " |-- min_lumpsum: integer (nullable = true)\n",
      " |-- expense_ratio: double (nullable = true)\n",
      " |-- fund_size_cr: double (nullable = true)\n",
      " |-- fund_age_yr: integer (nullable = true)\n",
      " |-- fund_manager: string (nullable = true)\n",
      " |-- sortino: string (nullable = true)\n",
      " |-- alpha: string (nullable = true)\n",
      " |-- sd: string (nullable = true)\n",
      " |-- beta: string (nullable = true)\n",
      " |-- sharpe: string (nullable = true)\n",
      " |-- risk_level: integer (nullable = true)\n",
      " |-- amc_name: string (nullable = true)\n",
      " |-- rating: integer (nullable = true)\n",
      " |-- category: string (nullable = true)\n",
      " |-- sub_category: string (nullable = true)\n",
      " |-- returns_1yr: double (nullable = true)\n",
      " |-- returns_3yr: double (nullable = true)\n",
      " |-- returns_5yr: double (nullable = true)\n",
      "\n"
     ]
    }
   ],
   "source": [
    "indianMF_df.printSchema()"
   ]
  },
  {
   "cell_type": "markdown",
   "id": "878f1d3c",
   "metadata": {},
   "source": [
    "### second way to read the csv file and inferschema"
   ]
  },
  {
   "cell_type": "code",
   "execution_count": 58,
   "id": "5a961b6c",
   "metadata": {},
   "outputs": [],
   "source": [
    "indianMF_df = spark.read.csv(\"dataset/indian_mutual_funds_dataset.csv\", header= True, inferSchema= True)"
   ]
  },
  {
   "cell_type": "code",
   "execution_count": 59,
   "id": "f8814c81",
   "metadata": {},
   "outputs": [
    {
     "name": "stdout",
     "output_type": "stream",
     "text": [
      "root\n",
      " |-- scheme_name: string (nullable = true)\n",
      " |-- min_sip: integer (nullable = true)\n",
      " |-- min_lumpsum: integer (nullable = true)\n",
      " |-- expense_ratio: double (nullable = true)\n",
      " |-- fund_size_cr: double (nullable = true)\n",
      " |-- fund_age_yr: integer (nullable = true)\n",
      " |-- fund_manager: string (nullable = true)\n",
      " |-- sortino: string (nullable = true)\n",
      " |-- alpha: string (nullable = true)\n",
      " |-- sd: string (nullable = true)\n",
      " |-- beta: string (nullable = true)\n",
      " |-- sharpe: string (nullable = true)\n",
      " |-- risk_level: integer (nullable = true)\n",
      " |-- amc_name: string (nullable = true)\n",
      " |-- rating: integer (nullable = true)\n",
      " |-- category: string (nullable = true)\n",
      " |-- sub_category: string (nullable = true)\n",
      " |-- returns_1yr: double (nullable = true)\n",
      " |-- returns_3yr: double (nullable = true)\n",
      " |-- returns_5yr: double (nullable = true)\n",
      "\n"
     ]
    }
   ],
   "source": [
    "indianMF_df.printSchema()"
   ]
  },
  {
   "cell_type": "code",
   "execution_count": 61,
   "id": "99a89a55",
   "metadata": {},
   "outputs": [
    {
     "data": {
      "text/plain": [
       "['scheme_name',\n",
       " 'min_sip',\n",
       " 'min_lumpsum',\n",
       " 'expense_ratio',\n",
       " 'fund_size_cr',\n",
       " 'fund_age_yr',\n",
       " 'fund_manager',\n",
       " 'sortino',\n",
       " 'alpha',\n",
       " 'sd',\n",
       " 'beta',\n",
       " 'sharpe',\n",
       " 'risk_level',\n",
       " 'amc_name',\n",
       " 'rating',\n",
       " 'category',\n",
       " 'sub_category',\n",
       " 'returns_1yr',\n",
       " 'returns_3yr',\n",
       " 'returns_5yr']"
      ]
     },
     "execution_count": 61,
     "metadata": {},
     "output_type": "execute_result"
    }
   ],
   "source": [
    "indianMF_df.columns"
   ]
  },
  {
   "cell_type": "code",
   "execution_count": 64,
   "id": "b8bdfc5c",
   "metadata": {},
   "outputs": [
    {
     "name": "stdout",
     "output_type": "stream",
     "text": [
      "+-------------+\n",
      "|expense_ratio|\n",
      "+-------------+\n",
      "|         0.27|\n",
      "|         0.36|\n",
      "|         0.53|\n",
      "|         0.76|\n",
      "|         0.61|\n",
      "|         1.17|\n",
      "|         0.37|\n",
      "|         1.29|\n",
      "|         0.31|\n",
      "|         0.69|\n",
      "|         0.88|\n",
      "|         1.73|\n",
      "|         0.64|\n",
      "|         1.14|\n",
      "|         1.01|\n",
      "|         1.21|\n",
      "|         0.86|\n",
      "|         0.23|\n",
      "|         1.06|\n",
      "|         0.22|\n",
      "+-------------+\n",
      "only showing top 20 rows\n",
      "\n"
     ]
    }
   ],
   "source": [
    "indianMF_df.select(\"expense_ratio\").show()"
   ]
  },
  {
   "cell_type": "code",
   "execution_count": 65,
   "id": "7645af8f",
   "metadata": {},
   "outputs": [
    {
     "data": {
      "text/plain": [
       "DataFrame[expense_ratio: double]"
      ]
     },
     "execution_count": 65,
     "metadata": {},
     "output_type": "execute_result"
    }
   ],
   "source": [
    "indianMF_df.select(\"expense_ratio\")"
   ]
  },
  {
   "cell_type": "code",
   "execution_count": 66,
   "id": "7fa28fd1",
   "metadata": {},
   "outputs": [
    {
     "name": "stdout",
     "output_type": "stream",
     "text": [
      "+-------------+------------------+\n",
      "|expense_ratio|      fund_manager|\n",
      "+-------------+------------------+\n",
      "|         0.27|    Kaustubh Gupta|\n",
      "|         0.36|  Lovelish Solanki|\n",
      "|         0.53|Vinod Narayan Bhat|\n",
      "|         0.76|       Atul Penkar|\n",
      "|         0.61|      Mohit Sharma|\n",
      "|         1.17|       Dhaval Gala|\n",
      "|         0.37|    Kaustubh Gupta|\n",
      "|         1.29|Vinod Narayan Bhat|\n",
      "|         0.31|    Kaustubh Gupta|\n",
      "|         0.69|  Sunaina da Cunha|\n",
      "|         0.88|      Kunal Sangoi|\n",
      "|         1.73|       Dhaval Gala|\n",
      "|         0.64|      Mohit Sharma|\n",
      "|         1.14|       Atul Penkar|\n",
      "|         1.01|      Mahesh Patil|\n",
      "|         1.21|       Dhaval Shah|\n",
      "|         0.86|         Anil Shah|\n",
      "|         0.23|    Kaustubh Gupta|\n",
      "|         1.06|      Mahesh Patil|\n",
      "|         0.22|Vinod Narayan Bhat|\n",
      "+-------------+------------------+\n",
      "only showing top 20 rows\n",
      "\n"
     ]
    }
   ],
   "source": [
    "indianMF_df.select([\"expense_ratio\",\"fund_manager\"]).show()"
   ]
  },
  {
   "cell_type": "code",
   "execution_count": 67,
   "id": "1b43f9d0",
   "metadata": {},
   "outputs": [
    {
     "data": {
      "text/plain": [
       "DataFrame[expense_ratio: double, fund_manager: string]"
      ]
     },
     "execution_count": 67,
     "metadata": {},
     "output_type": "execute_result"
    }
   ],
   "source": [
    "indianMF_df.select([\"expense_ratio\",\"fund_manager\"])"
   ]
  },
  {
   "cell_type": "code",
   "execution_count": null,
   "id": "c873c8b1",
   "metadata": {},
   "outputs": [],
   "source": []
  },
  {
   "cell_type": "code",
   "execution_count": null,
   "id": "0603d9ab",
   "metadata": {},
   "outputs": [],
   "source": []
  },
  {
   "cell_type": "code",
   "execution_count": null,
   "id": "a487c503",
   "metadata": {},
   "outputs": [],
   "source": []
  },
  {
   "cell_type": "code",
   "execution_count": null,
   "id": "331b4c5c",
   "metadata": {},
   "outputs": [],
   "source": []
  },
  {
   "cell_type": "code",
   "execution_count": null,
   "id": "49c16f23",
   "metadata": {},
   "outputs": [],
   "source": []
  },
  {
   "cell_type": "code",
   "execution_count": null,
   "id": "95068563",
   "metadata": {},
   "outputs": [],
   "source": []
  },
  {
   "cell_type": "code",
   "execution_count": null,
   "id": "5f1c2432",
   "metadata": {},
   "outputs": [],
   "source": []
  },
  {
   "cell_type": "code",
   "execution_count": null,
   "id": "83281926",
   "metadata": {},
   "outputs": [],
   "source": []
  },
  {
   "cell_type": "code",
   "execution_count": null,
   "id": "5f5aeebc",
   "metadata": {},
   "outputs": [],
   "source": []
  },
  {
   "cell_type": "code",
   "execution_count": null,
   "id": "f26f8729",
   "metadata": {},
   "outputs": [],
   "source": []
  },
  {
   "cell_type": "code",
   "execution_count": null,
   "id": "f8b94420",
   "metadata": {},
   "outputs": [],
   "source": []
  },
  {
   "cell_type": "code",
   "execution_count": null,
   "id": "d54ed853",
   "metadata": {},
   "outputs": [],
   "source": []
  },
  {
   "cell_type": "code",
   "execution_count": null,
   "id": "49add9ca",
   "metadata": {},
   "outputs": [],
   "source": []
  },
  {
   "cell_type": "code",
   "execution_count": null,
   "id": "22a75937",
   "metadata": {},
   "outputs": [],
   "source": []
  },
  {
   "cell_type": "code",
   "execution_count": null,
   "id": "abf934b3",
   "metadata": {},
   "outputs": [],
   "source": []
  },
  {
   "cell_type": "code",
   "execution_count": null,
   "id": "884f9fc9",
   "metadata": {},
   "outputs": [],
   "source": []
  },
  {
   "cell_type": "code",
   "execution_count": null,
   "id": "2fe4500b",
   "metadata": {},
   "outputs": [],
   "source": []
  },
  {
   "cell_type": "code",
   "execution_count": null,
   "id": "15424350",
   "metadata": {},
   "outputs": [],
   "source": []
  },
  {
   "cell_type": "code",
   "execution_count": null,
   "id": "629ca346",
   "metadata": {},
   "outputs": [],
   "source": []
  },
  {
   "cell_type": "code",
   "execution_count": null,
   "id": "6cd0d11e",
   "metadata": {},
   "outputs": [],
   "source": []
  },
  {
   "cell_type": "code",
   "execution_count": null,
   "id": "b55cef0b",
   "metadata": {},
   "outputs": [],
   "source": []
  },
  {
   "cell_type": "code",
   "execution_count": null,
   "id": "a47494f7",
   "metadata": {},
   "outputs": [],
   "source": []
  },
  {
   "cell_type": "code",
   "execution_count": null,
   "id": "10933255",
   "metadata": {},
   "outputs": [],
   "source": []
  },
  {
   "cell_type": "code",
   "execution_count": null,
   "id": "198053f3",
   "metadata": {},
   "outputs": [],
   "source": []
  },
  {
   "cell_type": "code",
   "execution_count": null,
   "id": "4124ab63",
   "metadata": {},
   "outputs": [],
   "source": []
  },
  {
   "cell_type": "code",
   "execution_count": null,
   "id": "a17b2483",
   "metadata": {},
   "outputs": [],
   "source": []
  },
  {
   "cell_type": "code",
   "execution_count": null,
   "id": "60d4abbc",
   "metadata": {},
   "outputs": [],
   "source": []
  },
  {
   "cell_type": "code",
   "execution_count": null,
   "id": "f8f618e2",
   "metadata": {},
   "outputs": [],
   "source": []
  },
  {
   "cell_type": "code",
   "execution_count": null,
   "id": "45550033",
   "metadata": {},
   "outputs": [],
   "source": []
  },
  {
   "cell_type": "code",
   "execution_count": null,
   "id": "a011af8e",
   "metadata": {},
   "outputs": [],
   "source": []
  },
  {
   "cell_type": "code",
   "execution_count": null,
   "id": "9d21d1c2",
   "metadata": {},
   "outputs": [],
   "source": []
  },
  {
   "cell_type": "code",
   "execution_count": null,
   "id": "e169ca1b",
   "metadata": {},
   "outputs": [],
   "source": []
  },
  {
   "cell_type": "code",
   "execution_count": null,
   "id": "c91bbae5",
   "metadata": {},
   "outputs": [],
   "source": []
  },
  {
   "cell_type": "code",
   "execution_count": null,
   "id": "3441f973",
   "metadata": {},
   "outputs": [],
   "source": []
  },
  {
   "cell_type": "code",
   "execution_count": null,
   "id": "257c3f21",
   "metadata": {},
   "outputs": [],
   "source": []
  },
  {
   "cell_type": "code",
   "execution_count": null,
   "id": "fbb708cb",
   "metadata": {},
   "outputs": [],
   "source": []
  },
  {
   "cell_type": "code",
   "execution_count": null,
   "id": "e0b4ae10",
   "metadata": {},
   "outputs": [],
   "source": []
  },
  {
   "cell_type": "code",
   "execution_count": null,
   "id": "58238c18",
   "metadata": {},
   "outputs": [],
   "source": []
  }
 ],
 "metadata": {
  "kernelspec": {
   "display_name": "Python 3 (ipykernel)",
   "language": "python",
   "name": "python3"
  },
  "language_info": {
   "codemirror_mode": {
    "name": "ipython",
    "version": 3
   },
   "file_extension": ".py",
   "mimetype": "text/x-python",
   "name": "python",
   "nbconvert_exporter": "python",
   "pygments_lexer": "ipython3",
   "version": "3.11.4"
  }
 },
 "nbformat": 4,
 "nbformat_minor": 5
}
