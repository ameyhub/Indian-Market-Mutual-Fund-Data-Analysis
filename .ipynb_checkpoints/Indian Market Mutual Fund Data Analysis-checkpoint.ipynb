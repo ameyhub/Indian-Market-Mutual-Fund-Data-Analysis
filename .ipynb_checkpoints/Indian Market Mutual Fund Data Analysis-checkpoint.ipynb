{
 "cells": [
  {
   "cell_type": "code",
   "execution_count": 102,
   "id": "6574f1f2",
   "metadata": {},
   "outputs": [],
   "source": [
    "from pyspark.ml.feature import Imputer\n",
    "\n",
    "from pyspark.sql.functions import col, when, count\n",
    "\n",
    "import numpy as np\n",
    "\n",
    "import matplotlib.pyplot as plt\n",
    "\n",
    "import pandas as pd\n",
    "\n",
    "import findspark\n",
    "\n",
    "findspark.init()\n",
    "\n",
    "from pyspark.sql import SparkSession\n",
    "\n",
    "spark = SparkSession.builder.master(\"local\").appName(\"pratices\").getOrCreate()\n",
    "\n",
    "sc = spark.sparkContext"
   ]
  },
  {
   "cell_type": "code",
   "execution_count": 55,
   "id": "50f9f4f0",
   "metadata": {},
   "outputs": [
    {
     "data": {
      "text/html": [
       "\n",
       "            <div>\n",
       "                <p><b>SparkSession - in-memory</b></p>\n",
       "                \n",
       "        <div>\n",
       "            <p><b>SparkContext</b></p>\n",
       "\n",
       "            <p><a href=\"http://192.168.29.19:4040\">Spark UI</a></p>\n",
       "\n",
       "            <dl>\n",
       "              <dt>Version</dt>\n",
       "                <dd><code>v3.4.1</code></dd>\n",
       "              <dt>Master</dt>\n",
       "                <dd><code>local</code></dd>\n",
       "              <dt>AppName</dt>\n",
       "                <dd><code>pratices</code></dd>\n",
       "            </dl>\n",
       "        </div>\n",
       "        \n",
       "            </div>\n",
       "        "
      ],
      "text/plain": [
       "<pyspark.sql.session.SparkSession at 0x7f2e8efed950>"
      ]
     },
     "execution_count": 55,
     "metadata": {},
     "output_type": "execute_result"
    }
   ],
   "source": [
    "spark"
   ]
  },
  {
   "cell_type": "code",
   "execution_count": 56,
   "id": "d696845a",
   "metadata": {},
   "outputs": [],
   "source": [
    "## read the dataframe"
   ]
  },
  {
   "cell_type": "code",
   "execution_count": 57,
   "id": "b1e820b2",
   "metadata": {},
   "outputs": [],
   "source": [
    "indianMF_df = spark.read.csv(\"dataset/indian_mutual_funds_dataset.csv\")"
   ]
  },
  {
   "cell_type": "code",
   "execution_count": 58,
   "id": "9df1936a",
   "metadata": {},
   "outputs": [
    {
     "data": {
      "text/plain": [
       "DataFrame[_c0: string, _c1: string, _c2: string, _c3: string, _c4: string, _c5: string, _c6: string, _c7: string, _c8: string, _c9: string, _c10: string, _c11: string, _c12: string, _c13: string, _c14: string, _c15: string, _c16: string, _c17: string, _c18: string, _c19: string]"
      ]
     },
     "execution_count": 58,
     "metadata": {},
     "output_type": "execute_result"
    }
   ],
   "source": [
    "indianMF_df"
   ]
  },
  {
   "cell_type": "code",
   "execution_count": 59,
   "id": "773d0020",
   "metadata": {},
   "outputs": [],
   "source": [
    "#spark.read.option('header','true').csv('dataset/indian_mutual_funds_dataset.csv').show()"
   ]
  },
  {
   "cell_type": "markdown",
   "id": "11bbb4e7",
   "metadata": {},
   "source": [
    "#### if we didn't add inferschema, by default it will take dataset as string value, and if we use inferschema it will show the interger value as interger"
   ]
  },
  {
   "cell_type": "code",
   "execution_count": 60,
   "id": "08df2006",
   "metadata": {},
   "outputs": [],
   "source": [
    "indianMF_df = spark.read.option('header','true').csv('dataset/indian_mutual_funds_dataset.csv', inferSchema=True)"
   ]
  },
  {
   "cell_type": "code",
   "execution_count": 61,
   "id": "f2ebd778",
   "metadata": {},
   "outputs": [
    {
     "data": {
      "text/plain": [
       "pyspark.sql.dataframe.DataFrame"
      ]
     },
     "execution_count": 61,
     "metadata": {},
     "output_type": "execute_result"
    }
   ],
   "source": [
    "type(indianMF_df)"
   ]
  },
  {
   "cell_type": "code",
   "execution_count": 62,
   "id": "a7a4b093",
   "metadata": {},
   "outputs": [
    {
     "data": {
      "text/plain": [
       "DataFrame[scheme_name: string, min_sip: int, min_lumpsum: int, expense_ratio: double, fund_size_cr: double, fund_age_yr: int, fund_manager: string, sortino: string, alpha: string, sd: string, beta: string, sharpe: string, risk_level: int, amc_name: string, rating: int, category: string, sub_category: string, returns_1yr: double, returns_3yr: double, returns_5yr: double]"
      ]
     },
     "execution_count": 62,
     "metadata": {},
     "output_type": "execute_result"
    }
   ],
   "source": [
    "indianMF_df"
   ]
  },
  {
   "cell_type": "code",
   "execution_count": 63,
   "id": "3fca4a99",
   "metadata": {},
   "outputs": [
    {
     "data": {
      "text/plain": [
       "[Row(scheme_name='Aditya Birla SL Active Debt Multi-Mgr FoF-Dir Growth', min_sip=100, min_lumpsum=100, expense_ratio=0.27, fund_size_cr=10.0, fund_age_yr=10, fund_manager='Kaustubh Gupta', sortino='0.32', alpha='2.24', sd='9.39', beta='0.01', sharpe='0.24', risk_level=3, amc_name='Aditya Birla Sun Life Mutual Fund', rating=3, category='Other', sub_category='FoFs Domestic', returns_1yr=4.0, returns_3yr=6.5, returns_5yr=6.9),\n",
       " Row(scheme_name='Aditya Birla SL Arbitrage Fund', min_sip=1000, min_lumpsum=1000, expense_ratio=0.36, fund_size_cr=4288.0, fund_age_yr=10, fund_manager='Lovelish Solanki', sortino='1.33', alpha='1.53', sd='0.72', beta='0.56', sharpe='1.1', risk_level=1, amc_name='Aditya Birla Sun Life Mutual Fund', rating=3, category='Hybrid', sub_category='Arbitrage Mutual Funds', returns_1yr=5.6, returns_3yr=4.8, returns_5yr=5.5)]"
      ]
     },
     "execution_count": 63,
     "metadata": {},
     "output_type": "execute_result"
    }
   ],
   "source": [
    "indianMF_df.head(2)"
   ]
  },
  {
   "cell_type": "code",
   "execution_count": 64,
   "id": "be73a970",
   "metadata": {},
   "outputs": [
    {
     "name": "stdout",
     "output_type": "stream",
     "text": [
      "root\n",
      " |-- scheme_name: string (nullable = true)\n",
      " |-- min_sip: integer (nullable = true)\n",
      " |-- min_lumpsum: integer (nullable = true)\n",
      " |-- expense_ratio: double (nullable = true)\n",
      " |-- fund_size_cr: double (nullable = true)\n",
      " |-- fund_age_yr: integer (nullable = true)\n",
      " |-- fund_manager: string (nullable = true)\n",
      " |-- sortino: string (nullable = true)\n",
      " |-- alpha: string (nullable = true)\n",
      " |-- sd: string (nullable = true)\n",
      " |-- beta: string (nullable = true)\n",
      " |-- sharpe: string (nullable = true)\n",
      " |-- risk_level: integer (nullable = true)\n",
      " |-- amc_name: string (nullable = true)\n",
      " |-- rating: integer (nullable = true)\n",
      " |-- category: string (nullable = true)\n",
      " |-- sub_category: string (nullable = true)\n",
      " |-- returns_1yr: double (nullable = true)\n",
      " |-- returns_3yr: double (nullable = true)\n",
      " |-- returns_5yr: double (nullable = true)\n",
      "\n"
     ]
    }
   ],
   "source": [
    "indianMF_df.printSchema()"
   ]
  },
  {
   "cell_type": "markdown",
   "id": "878f1d3c",
   "metadata": {},
   "source": [
    "### second way to read the csv file and inferschema"
   ]
  },
  {
   "cell_type": "code",
   "execution_count": 65,
   "id": "5a961b6c",
   "metadata": {},
   "outputs": [],
   "source": [
    "indianMF_df = spark.read.csv(\"dataset/indian_mutual_funds_dataset.csv\", header= True, inferSchema= True)"
   ]
  },
  {
   "cell_type": "code",
   "execution_count": 66,
   "id": "f8814c81",
   "metadata": {},
   "outputs": [
    {
     "name": "stdout",
     "output_type": "stream",
     "text": [
      "root\n",
      " |-- scheme_name: string (nullable = true)\n",
      " |-- min_sip: integer (nullable = true)\n",
      " |-- min_lumpsum: integer (nullable = true)\n",
      " |-- expense_ratio: double (nullable = true)\n",
      " |-- fund_size_cr: double (nullable = true)\n",
      " |-- fund_age_yr: integer (nullable = true)\n",
      " |-- fund_manager: string (nullable = true)\n",
      " |-- sortino: string (nullable = true)\n",
      " |-- alpha: string (nullable = true)\n",
      " |-- sd: string (nullable = true)\n",
      " |-- beta: string (nullable = true)\n",
      " |-- sharpe: string (nullable = true)\n",
      " |-- risk_level: integer (nullable = true)\n",
      " |-- amc_name: string (nullable = true)\n",
      " |-- rating: integer (nullable = true)\n",
      " |-- category: string (nullable = true)\n",
      " |-- sub_category: string (nullable = true)\n",
      " |-- returns_1yr: double (nullable = true)\n",
      " |-- returns_3yr: double (nullable = true)\n",
      " |-- returns_5yr: double (nullable = true)\n",
      "\n"
     ]
    }
   ],
   "source": [
    "indianMF_df.printSchema()"
   ]
  },
  {
   "cell_type": "code",
   "execution_count": 67,
   "id": "99a89a55",
   "metadata": {},
   "outputs": [
    {
     "data": {
      "text/plain": [
       "['scheme_name',\n",
       " 'min_sip',\n",
       " 'min_lumpsum',\n",
       " 'expense_ratio',\n",
       " 'fund_size_cr',\n",
       " 'fund_age_yr',\n",
       " 'fund_manager',\n",
       " 'sortino',\n",
       " 'alpha',\n",
       " 'sd',\n",
       " 'beta',\n",
       " 'sharpe',\n",
       " 'risk_level',\n",
       " 'amc_name',\n",
       " 'rating',\n",
       " 'category',\n",
       " 'sub_category',\n",
       " 'returns_1yr',\n",
       " 'returns_3yr',\n",
       " 'returns_5yr']"
      ]
     },
     "execution_count": 67,
     "metadata": {},
     "output_type": "execute_result"
    }
   ],
   "source": [
    "indianMF_df.columns"
   ]
  },
  {
   "cell_type": "code",
   "execution_count": 68,
   "id": "b8bdfc5c",
   "metadata": {},
   "outputs": [
    {
     "name": "stdout",
     "output_type": "stream",
     "text": [
      "+-------------+\n",
      "|expense_ratio|\n",
      "+-------------+\n",
      "|         0.27|\n",
      "|         0.36|\n",
      "|         0.53|\n",
      "|         0.76|\n",
      "|         0.61|\n",
      "|         1.17|\n",
      "|         0.37|\n",
      "|         1.29|\n",
      "|         0.31|\n",
      "|         0.69|\n",
      "|         0.88|\n",
      "|         1.73|\n",
      "|         0.64|\n",
      "|         1.14|\n",
      "|         1.01|\n",
      "|         1.21|\n",
      "|         0.86|\n",
      "|         0.23|\n",
      "|         1.06|\n",
      "|         0.22|\n",
      "+-------------+\n",
      "only showing top 20 rows\n",
      "\n"
     ]
    }
   ],
   "source": [
    "indianMF_df.select(\"expense_ratio\").show()"
   ]
  },
  {
   "cell_type": "code",
   "execution_count": 69,
   "id": "7645af8f",
   "metadata": {},
   "outputs": [
    {
     "data": {
      "text/plain": [
       "DataFrame[expense_ratio: double]"
      ]
     },
     "execution_count": 69,
     "metadata": {},
     "output_type": "execute_result"
    }
   ],
   "source": [
    "indianMF_df.select(\"expense_ratio\")"
   ]
  },
  {
   "cell_type": "code",
   "execution_count": 70,
   "id": "7fa28fd1",
   "metadata": {},
   "outputs": [
    {
     "name": "stdout",
     "output_type": "stream",
     "text": [
      "+-------------+------------------+\n",
      "|expense_ratio|      fund_manager|\n",
      "+-------------+------------------+\n",
      "|         0.27|    Kaustubh Gupta|\n",
      "|         0.36|  Lovelish Solanki|\n",
      "|         0.53|Vinod Narayan Bhat|\n",
      "|         0.76|       Atul Penkar|\n",
      "|         0.61|      Mohit Sharma|\n",
      "|         1.17|       Dhaval Gala|\n",
      "|         0.37|    Kaustubh Gupta|\n",
      "|         1.29|Vinod Narayan Bhat|\n",
      "|         0.31|    Kaustubh Gupta|\n",
      "|         0.69|  Sunaina da Cunha|\n",
      "|         0.88|      Kunal Sangoi|\n",
      "|         1.73|       Dhaval Gala|\n",
      "|         0.64|      Mohit Sharma|\n",
      "|         1.14|       Atul Penkar|\n",
      "|         1.01|      Mahesh Patil|\n",
      "|         1.21|       Dhaval Shah|\n",
      "|         0.86|         Anil Shah|\n",
      "|         0.23|    Kaustubh Gupta|\n",
      "|         1.06|      Mahesh Patil|\n",
      "|         0.22|Vinod Narayan Bhat|\n",
      "+-------------+------------------+\n",
      "only showing top 20 rows\n",
      "\n"
     ]
    }
   ],
   "source": [
    "indianMF_df.select([\"expense_ratio\",\"fund_manager\"]).show()"
   ]
  },
  {
   "cell_type": "code",
   "execution_count": 71,
   "id": "1b43f9d0",
   "metadata": {},
   "outputs": [
    {
     "data": {
      "text/plain": [
       "DataFrame[expense_ratio: double, fund_manager: string]"
      ]
     },
     "execution_count": 71,
     "metadata": {},
     "output_type": "execute_result"
    }
   ],
   "source": [
    "indianMF_df.select([\"expense_ratio\",\"fund_manager\"])"
   ]
  },
  {
   "cell_type": "code",
   "execution_count": 72,
   "id": "c873c8b1",
   "metadata": {},
   "outputs": [
    {
     "data": {
      "text/plain": [
       "[('scheme_name', 'string'),\n",
       " ('min_sip', 'int'),\n",
       " ('min_lumpsum', 'int'),\n",
       " ('expense_ratio', 'double'),\n",
       " ('fund_size_cr', 'double'),\n",
       " ('fund_age_yr', 'int'),\n",
       " ('fund_manager', 'string'),\n",
       " ('sortino', 'string'),\n",
       " ('alpha', 'string'),\n",
       " ('sd', 'string'),\n",
       " ('beta', 'string'),\n",
       " ('sharpe', 'string'),\n",
       " ('risk_level', 'int'),\n",
       " ('amc_name', 'string'),\n",
       " ('rating', 'int'),\n",
       " ('category', 'string'),\n",
       " ('sub_category', 'string'),\n",
       " ('returns_1yr', 'double'),\n",
       " ('returns_3yr', 'double'),\n",
       " ('returns_5yr', 'double')]"
      ]
     },
     "execution_count": 72,
     "metadata": {},
     "output_type": "execute_result"
    }
   ],
   "source": [
    "indianMF_df.dtypes"
   ]
  },
  {
   "cell_type": "code",
   "execution_count": 73,
   "id": "0603d9ab",
   "metadata": {},
   "outputs": [
    {
     "name": "stdout",
     "output_type": "stream",
     "text": [
      "+-------+--------------------+-----------------+------------------+-------------------+-----------------+-----------------+------------------+-----------------+------------------+------------------+------------------+------------------+------------------+--------------------+------------------+-----------------+--------------------+------------------+------------------+------------------+\n",
      "|summary|         scheme_name|          min_sip|       min_lumpsum|      expense_ratio|     fund_size_cr|      fund_age_yr|      fund_manager|          sortino|             alpha|                sd|              beta|            sharpe|        risk_level|            amc_name|            rating|         category|        sub_category|       returns_1yr|       returns_3yr|       returns_5yr|\n",
      "+-------+--------------------+-----------------+------------------+-------------------+-----------------+-----------------+------------------+-----------------+------------------+------------------+------------------+------------------+------------------+--------------------+------------------+-----------------+--------------------+------------------+------------------+------------------+\n",
      "|  count|                 814|              814|               814|                814|              814|              814|               814|              814|               814|               814|               814|               814|               814|                 814|               814|              814|                 814|               814|               793|               647|\n",
      "|   mean|                null|            528.5| 3047.468058968059| 0.7132309582309584|3812.854213759214| 8.31941031941032|              null|2.652642225031605| 2.505634715025908|10.272696202531646|0.8222409326424869|1.2041845764854606| 4.400491400491401|                null|2.6412776412776413|             null|                null|3.9213759213759203| 18.52534678436317| 9.490726429675432|\n",
      "| stddev|                null|369.1845165456869|2514.6195129276466|0.48216124063205074|7181.479475387089|2.640621576196724|              null|1.392227510211414|3.9515726710469385| 7.805667447794725|1.3098706499374222|0.5364308313049058|1.8147407228223722|                null|1.4634762366599026|             null|                null| 6.675501654239477|12.108476480917501|3.7140150344091785|\n",
      "|    min|AXIS All Seasons ...|                0|                 0|                0.0|             2.38|                1|Abhinav Khandelwal|                -|                 -|                 -|                 -|                 -|                 1|Aditya Birla Sun ...|                 0|             Debt|Aggressive Hybrid...|             -19.7|               3.3|              -4.1|\n",
      "|    max|WhiteOak Capital ...|             2000|             25000|               2.59|          57052.0|               17|      Yogesh Patil|              8.6|              9.96|              9.99|               5.4|              3.52|                 6|WhiteOak Capital ...|                 5|Solution Oriented|         Value Funds|             130.8|              71.4|              23.2|\n",
      "+-------+--------------------+-----------------+------------------+-------------------+-----------------+-----------------+------------------+-----------------+------------------+------------------+------------------+------------------+------------------+--------------------+------------------+-----------------+--------------------+------------------+------------------+------------------+\n",
      "\n"
     ]
    }
   ],
   "source": [
    "indianMF_df.describe().show()"
   ]
  },
  {
   "cell_type": "code",
   "execution_count": 74,
   "id": "a487c503",
   "metadata": {},
   "outputs": [],
   "source": [
    "indianMF_df = indianMF_df.withColumn('Mutual Fund Started', 2023-indianMF_df['fund_age_yr'])"
   ]
  },
  {
   "cell_type": "code",
   "execution_count": 75,
   "id": "331b4c5c",
   "metadata": {},
   "outputs": [
    {
     "name": "stdout",
     "output_type": "stream",
     "text": [
      "+--------------------+-------+-----------+-------------+------------+-----------+------------------+-------+-----+-----+-----+------+----------+--------------------+------+-----------------+--------------------+-----------+-----------+-----------+-------------------+\n",
      "|         scheme_name|min_sip|min_lumpsum|expense_ratio|fund_size_cr|fund_age_yr|      fund_manager|sortino|alpha|   sd| beta|sharpe|risk_level|            amc_name|rating|         category|        sub_category|returns_1yr|returns_3yr|returns_5yr|Mutual Fund Started|\n",
      "+--------------------+-------+-----------+-------------+------------+-----------+------------------+-------+-----+-----+-----+------+----------+--------------------+------+-----------------+--------------------+-----------+-----------+-----------+-------------------+\n",
      "|Aditya Birla SL A...|    100|        100|         0.27|        10.0|         10|    Kaustubh Gupta|   0.32| 2.24| 9.39| 0.01|  0.24|         3|Aditya Birla Sun ...|     3|            Other|       FoFs Domestic|        4.0|        6.5|        6.9|               2013|\n",
      "|Aditya Birla SL A...|   1000|       1000|         0.36|      4288.0|         10|  Lovelish Solanki|   1.33| 1.53| 0.72| 0.56|   1.1|         1|Aditya Birla Sun ...|     3|           Hybrid|Arbitrage Mutual ...|        5.6|        4.8|        5.5|               2013|\n",
      "|Aditya Birla SL A...|   1000|       1000|         0.53|       157.0|         10|Vinod Narayan Bhat|   3.44| 2.67|10.58| 0.67|  1.42|         5|Aditya Birla Sun ...|     3|            Other|       FoFs Domestic|        2.0|       18.9|        9.7|               2013|\n",
      "|Aditya Birla SL B...|    500|       1000|         0.76|       637.0|          4|       Atul Penkar|   2.18|-6.37|14.99| 0.85|   0.9|         6|Aditya Birla Sun ...|     2|Solution Oriented|     Childrens Funds|       -0.7|       17.1|       null|               2019|\n",
      "|Aditya Birla SL B...|    100|        100|         0.61|      6386.0|         10|      Mohit Sharma|   3.69| 1.99|10.38| 0.68|  1.39|         6|Aditya Birla Sun ...|     4|           Hybrid|Dynamic Asset All...|        4.5|       18.6|        9.7|               2013|\n",
      "|Aditya Birla SL B...|   1000|       1000|         1.17|      2384.0|          9|       Dhaval Gala|   2.07| 1.24|25.53| 0.96|  0.97|         6|Aditya Birla Sun ...|     2|           Equity|Sectoral / Themat...|        5.3|       24.6|        9.2|               2014|\n",
      "|Aditya Birla SL B...|   1000|       1000|         0.37|      7994.0|         10|    Kaustubh Gupta|   1.92| 4.46| 1.91| 1.78|  1.09|         3|Aditya Birla Sun ...|     4|             Debt|Banking and PSU M...|        4.5|        6.8|        7.3|               2013|\n",
      "|Aditya Birla SL C...|   1000|       1000|         1.29|        15.0|         10|Vinod Narayan Bhat|   1.42|    -|20.18|    -|  1.06|         6|Aditya Birla Sun ...|     0|           Equity|Sectoral / Themat...|      -10.3|       29.4|        9.3|               2013|\n",
      "|Aditya Birla SL C...|    100|        100|         0.31|     12120.0|         10|    Kaustubh Gupta|   2.28| 2.38| 1.93| 0.78|  1.35|         2|Aditya Birla Sun ...|     4|             Debt|Corporate Bond Mu...|        4.9|        7.1|        7.4|               2013|\n",
      "|Aditya Birla SL C...|    100|        100|         0.69|      1032.0|          8|  Sunaina da Cunha|   1.82| 3.01|  2.9|-0.95|  1.47|         4|Aditya Birla Sun ...|     4|             Debt|   Credit Risk Funds|        8.7|        9.0|        7.2|               2015|\n",
      "|Aditya Birla SL D...|    100|       1000|         0.88|      3338.0|         10|      Kunal Sangoi|   2.42| 9.37|21.12| 0.83|  1.53|         6|Aditya Birla Sun ...|     0|           Equity|Sectoral / Themat...|      -14.6|       39.8|       21.1|               2013|\n",
      "|Aditya Birla SL D...|   1000|       1000|         1.73|       850.0|         10|       Dhaval Gala|   3.78| 5.04|15.77| 0.85|  1.58|         6|Aditya Birla Sun ...|     0|           Equity|Dividend Yield Funds|        6.2|       30.5|       10.0|               2013|\n",
      "|Aditya Birla SL D...|   1000|       1000|         0.64|      1795.0|         10|      Mohit Sharma|   1.78| 3.02| 3.22| 0.91|  1.02|         3|Aditya Birla Sun ...|     5|             Debt|        Dynamic Bond|        7.5|        8.0|        6.0|               2013|\n",
      "|Aditya Birla SL E...|   1000|       1000|         1.14|      4836.0|         10|       Atul Penkar|   2.21|-2.06|17.61| 0.98|  1.16|         6|Aditya Birla Sun ...|     1|           Equity|Large & Mid Cap F...|       -9.9|       22.3|        7.9|               2013|\n",
      "|Aditya Birla SL E...|    100|        100|         1.01|      7046.0|         10|      Mahesh Patil|   2.54| 1.43|12.84| 0.85|  1.33|         6|Aditya Birla Sun ...|     2|           Hybrid|Aggressive Hybrid...|       -5.7|       20.4|        7.7|               2013|\n",
      "|Aditya Birla SL E...|   1000|       1000|         1.21|       451.0|          8|       Dhaval Shah|   2.55| 1.11| 6.83| 0.99|   1.2|         4|Aditya Birla Sun ...|     2|           Hybrid|Equity Savings Mu...|        0.8|       11.7|        6.9|               2015|\n",
      "|Aditya Birla SL F...|    100|        100|         0.86|     15449.0|         10|         Anil Shah|    3.4|-1.46| 16.6| 0.96|  1.27|         6|Aditya Birla Sun ...|     3|           Equity|     Flexi Cap Funds|       -2.1|       25.0|       10.4|               2013|\n",
      "|Aditya Birla SL F...|   1000|       1000|         0.23|     12364.0|         10|    Kaustubh Gupta|   2.81| 3.73| 1.14| 1.37|  1.66|         2|Aditya Birla Sun ...|     5|             Debt|Floater Mutual Funds|        5.8|        6.4|        6.8|               2013|\n",
      "|Aditya Birla SL F...|   1000|       1000|         1.06|      5633.0|         10|      Mahesh Patil|   3.24|-1.14|16.09| 0.95|  1.26|         6|Aditya Birla Sun ...|     3|           Equity|       Focused Funds|       -0.7|       24.0|       10.7|               2013|\n",
      "|Aditya Birla SL F...|    100|        100|         0.22|       159.0|         10|Vinod Narayan Bhat|   3.13| 1.65|11.73|  0.8|   1.4|         6|Aditya Birla Sun ...|     3|            Other|       FoFs Domestic|        2.5|       21.7|       10.7|               2013|\n",
      "+--------------------+-------+-----------+-------------+------------+-----------+------------------+-------+-----+-----+-----+------+----------+--------------------+------+-----------------+--------------------+-----------+-----------+-----------+-------------------+\n",
      "only showing top 20 rows\n",
      "\n"
     ]
    }
   ],
   "source": [
    "indianMF_df.show()"
   ]
  },
  {
   "cell_type": "code",
   "execution_count": 76,
   "id": "49c16f23",
   "metadata": {},
   "outputs": [],
   "source": [
    "indianMF_df = indianMF_df.withColumnRenamed('Mutual Fund Started', 'MF_start_year')"
   ]
  },
  {
   "cell_type": "code",
   "execution_count": 77,
   "id": "95068563",
   "metadata": {},
   "outputs": [],
   "source": [
    "#indianMF_df.show()"
   ]
  },
  {
   "cell_type": "code",
   "execution_count": 78,
   "id": "5f1c2432",
   "metadata": {},
   "outputs": [],
   "source": [
    "indianMF_df = indianMF_df.drop('MF_start_year')"
   ]
  },
  {
   "cell_type": "code",
   "execution_count": 79,
   "id": "83281926",
   "metadata": {},
   "outputs": [
    {
     "name": "stdout",
     "output_type": "stream",
     "text": [
      "+--------------------+-------+-----------+-------------+------------+-----------+------------------+-------+-----+-----+-----+------+----------+--------------------+------+-----------------+--------------------+-----------+-----------+-----------+\n",
      "|         scheme_name|min_sip|min_lumpsum|expense_ratio|fund_size_cr|fund_age_yr|      fund_manager|sortino|alpha|   sd| beta|sharpe|risk_level|            amc_name|rating|         category|        sub_category|returns_1yr|returns_3yr|returns_5yr|\n",
      "+--------------------+-------+-----------+-------------+------------+-----------+------------------+-------+-----+-----+-----+------+----------+--------------------+------+-----------------+--------------------+-----------+-----------+-----------+\n",
      "|Aditya Birla SL A...|    100|        100|         0.27|        10.0|         10|    Kaustubh Gupta|   0.32| 2.24| 9.39| 0.01|  0.24|         3|Aditya Birla Sun ...|     3|            Other|       FoFs Domestic|        4.0|        6.5|        6.9|\n",
      "|Aditya Birla SL A...|   1000|       1000|         0.36|      4288.0|         10|  Lovelish Solanki|   1.33| 1.53| 0.72| 0.56|   1.1|         1|Aditya Birla Sun ...|     3|           Hybrid|Arbitrage Mutual ...|        5.6|        4.8|        5.5|\n",
      "|Aditya Birla SL A...|   1000|       1000|         0.53|       157.0|         10|Vinod Narayan Bhat|   3.44| 2.67|10.58| 0.67|  1.42|         5|Aditya Birla Sun ...|     3|            Other|       FoFs Domestic|        2.0|       18.9|        9.7|\n",
      "|Aditya Birla SL B...|    500|       1000|         0.76|       637.0|          4|       Atul Penkar|   2.18|-6.37|14.99| 0.85|   0.9|         6|Aditya Birla Sun ...|     2|Solution Oriented|     Childrens Funds|       -0.7|       17.1|       null|\n",
      "|Aditya Birla SL B...|    100|        100|         0.61|      6386.0|         10|      Mohit Sharma|   3.69| 1.99|10.38| 0.68|  1.39|         6|Aditya Birla Sun ...|     4|           Hybrid|Dynamic Asset All...|        4.5|       18.6|        9.7|\n",
      "|Aditya Birla SL B...|   1000|       1000|         1.17|      2384.0|          9|       Dhaval Gala|   2.07| 1.24|25.53| 0.96|  0.97|         6|Aditya Birla Sun ...|     2|           Equity|Sectoral / Themat...|        5.3|       24.6|        9.2|\n",
      "|Aditya Birla SL B...|   1000|       1000|         0.37|      7994.0|         10|    Kaustubh Gupta|   1.92| 4.46| 1.91| 1.78|  1.09|         3|Aditya Birla Sun ...|     4|             Debt|Banking and PSU M...|        4.5|        6.8|        7.3|\n",
      "|Aditya Birla SL C...|   1000|       1000|         1.29|        15.0|         10|Vinod Narayan Bhat|   1.42|    -|20.18|    -|  1.06|         6|Aditya Birla Sun ...|     0|           Equity|Sectoral / Themat...|      -10.3|       29.4|        9.3|\n",
      "|Aditya Birla SL C...|    100|        100|         0.31|     12120.0|         10|    Kaustubh Gupta|   2.28| 2.38| 1.93| 0.78|  1.35|         2|Aditya Birla Sun ...|     4|             Debt|Corporate Bond Mu...|        4.9|        7.1|        7.4|\n",
      "|Aditya Birla SL C...|    100|        100|         0.69|      1032.0|          8|  Sunaina da Cunha|   1.82| 3.01|  2.9|-0.95|  1.47|         4|Aditya Birla Sun ...|     4|             Debt|   Credit Risk Funds|        8.7|        9.0|        7.2|\n",
      "|Aditya Birla SL D...|    100|       1000|         0.88|      3338.0|         10|      Kunal Sangoi|   2.42| 9.37|21.12| 0.83|  1.53|         6|Aditya Birla Sun ...|     0|           Equity|Sectoral / Themat...|      -14.6|       39.8|       21.1|\n",
      "|Aditya Birla SL D...|   1000|       1000|         1.73|       850.0|         10|       Dhaval Gala|   3.78| 5.04|15.77| 0.85|  1.58|         6|Aditya Birla Sun ...|     0|           Equity|Dividend Yield Funds|        6.2|       30.5|       10.0|\n",
      "|Aditya Birla SL D...|   1000|       1000|         0.64|      1795.0|         10|      Mohit Sharma|   1.78| 3.02| 3.22| 0.91|  1.02|         3|Aditya Birla Sun ...|     5|             Debt|        Dynamic Bond|        7.5|        8.0|        6.0|\n",
      "|Aditya Birla SL E...|   1000|       1000|         1.14|      4836.0|         10|       Atul Penkar|   2.21|-2.06|17.61| 0.98|  1.16|         6|Aditya Birla Sun ...|     1|           Equity|Large & Mid Cap F...|       -9.9|       22.3|        7.9|\n",
      "|Aditya Birla SL E...|    100|        100|         1.01|      7046.0|         10|      Mahesh Patil|   2.54| 1.43|12.84| 0.85|  1.33|         6|Aditya Birla Sun ...|     2|           Hybrid|Aggressive Hybrid...|       -5.7|       20.4|        7.7|\n",
      "|Aditya Birla SL E...|   1000|       1000|         1.21|       451.0|          8|       Dhaval Shah|   2.55| 1.11| 6.83| 0.99|   1.2|         4|Aditya Birla Sun ...|     2|           Hybrid|Equity Savings Mu...|        0.8|       11.7|        6.9|\n",
      "|Aditya Birla SL F...|    100|        100|         0.86|     15449.0|         10|         Anil Shah|    3.4|-1.46| 16.6| 0.96|  1.27|         6|Aditya Birla Sun ...|     3|           Equity|     Flexi Cap Funds|       -2.1|       25.0|       10.4|\n",
      "|Aditya Birla SL F...|   1000|       1000|         0.23|     12364.0|         10|    Kaustubh Gupta|   2.81| 3.73| 1.14| 1.37|  1.66|         2|Aditya Birla Sun ...|     5|             Debt|Floater Mutual Funds|        5.8|        6.4|        6.8|\n",
      "|Aditya Birla SL F...|   1000|       1000|         1.06|      5633.0|         10|      Mahesh Patil|   3.24|-1.14|16.09| 0.95|  1.26|         6|Aditya Birla Sun ...|     3|           Equity|       Focused Funds|       -0.7|       24.0|       10.7|\n",
      "|Aditya Birla SL F...|    100|        100|         0.22|       159.0|         10|Vinod Narayan Bhat|   3.13| 1.65|11.73|  0.8|   1.4|         6|Aditya Birla Sun ...|     3|            Other|       FoFs Domestic|        2.5|       21.7|       10.7|\n",
      "+--------------------+-------+-----------+-------------+------------+-----------+------------------+-------+-----+-----+-----+------+----------+--------------------+------+-----------------+--------------------+-----------+-----------+-----------+\n",
      "only showing top 20 rows\n",
      "\n"
     ]
    }
   ],
   "source": [
    "indianMF_df.show()"
   ]
  },
  {
   "cell_type": "code",
   "execution_count": 80,
   "id": "49add9ca",
   "metadata": {},
   "outputs": [
    {
     "name": "stdout",
     "output_type": "stream",
     "text": [
      "+-----------+-------+-----------+-------------+------------+-----------+------------+-------+-----+---+----+------+----------+--------+------+--------+------------+-----------+-----------+-----------+\n",
      "|scheme_name|min_sip|min_lumpsum|expense_ratio|fund_size_cr|fund_age_yr|fund_manager|sortino|alpha| sd|beta|sharpe|risk_level|amc_name|rating|category|sub_category|returns_1yr|returns_3yr|returns_5yr|\n",
      "+-----------+-------+-----------+-------------+------------+-----------+------------+-------+-----+---+----+------+----------+--------+------+--------+------------+-----------+-----------+-----------+\n",
      "|          0|      0|          0|            0|           0|          0|           0|      0|    0|  0|   0|     0|         0|       0|     0|       0|           0|          0|         21|        167|\n",
      "+-----------+-------+-----------+-------------+------------+-----------+------------+-------+-----+---+----+------+----------+--------+------+--------+------------+-----------+-----------+-----------+\n",
      "\n"
     ]
    }
   ],
   "source": [
    "indianMF_df_nan_value = indianMF_df.select([count(when(col(c).isNull() , c)).alias(c) for c in indianMF_df.columns]\n",
    "   ).show()"
   ]
  },
  {
   "cell_type": "markdown",
   "id": "d247f83b",
   "metadata": {},
   "source": [
    "### returns_3yr and returns_5yr column contain Null value, we need to fill null value via comparing mean, median and mode, also need to check the outlayers\n",
    "\n",
    "### Column Name ---->  \"scheme_name\", \"min_sip\", \"min_lumpsum\", \"expense_ratio\", \"fund_size_cr\", \"fund_age_yr\", \"fund_manager\", \"sortino\", \"alpha\", \"sd\", \"beta\", \"sharpe\", \"risk_level\", \"amc_name\", \"rating\", \"category\", \"sub_category\", \"returns_1yr\", \"returns_3yr\", \"returns_5yr\""
   ]
  },
  {
   "cell_type": "code",
   "execution_count": 81,
   "id": "abf934b3",
   "metadata": {},
   "outputs": [],
   "source": [
    "imputer_fun = Imputer(\n",
    "        inputCols=['returns_3yr', 'returns_5yr'],\n",
    "        outputCols=[\"{}_imputed\".format(i) for i in ['returns_3yr', 'returns_5yr']]\n",
    ").setStrategy(\"median\")"
   ]
  },
  {
   "cell_type": "code",
   "execution_count": 82,
   "id": "2fe4500b",
   "metadata": {},
   "outputs": [],
   "source": [
    "# Add imputation cols to df\n",
    "imputer_fun = imputer_fun.fit(indianMF_df).transform(indianMF_df)"
   ]
  },
  {
   "cell_type": "code",
   "execution_count": 83,
   "id": "5fa91c90",
   "metadata": {},
   "outputs": [],
   "source": [
    "#imputer_fun.show()"
   ]
  },
  {
   "cell_type": "code",
   "execution_count": 84,
   "id": "15424350",
   "metadata": {},
   "outputs": [
    {
     "name": "stdout",
     "output_type": "stream",
     "text": [
      "+-----------+-------+-----------+-------------+------------+-----------+------------+-------+-----+---+----+------+----------+--------+------+--------+------------+-----------+-----------+-----------+-------------------+-------------------+\n",
      "|scheme_name|min_sip|min_lumpsum|expense_ratio|fund_size_cr|fund_age_yr|fund_manager|sortino|alpha| sd|beta|sharpe|risk_level|amc_name|rating|category|sub_category|returns_1yr|returns_3yr|returns_5yr|returns_3yr_imputed|returns_5yr_imputed|\n",
      "+-----------+-------+-----------+-------------+------------+-----------+------------+-------+-----+---+----+------+----------+--------+------+--------+------------+-----------+-----------+-----------+-------------------+-------------------+\n",
      "|          0|      0|          0|            0|           0|          0|           0|      0|    0|  0|   0|     0|         0|       0|     0|       0|           0|          0|         21|        167|                  0|                  0|\n",
      "+-----------+-------+-----------+-------------+------------+-----------+------------+-------+-----+---+----+------+----------+--------+------+--------+------------+-----------+-----------+-----------+-------------------+-------------------+\n",
      "\n"
     ]
    }
   ],
   "source": [
    "imputer_fun.select([count(when(col(c).isNull() , c)).alias(c) for c in imputer_fun.columns]\n",
    "   ).show()"
   ]
  },
  {
   "cell_type": "code",
   "execution_count": 85,
   "id": "629ca346",
   "metadata": {},
   "outputs": [],
   "source": [
    "imputer_fun = imputer_fun.drop(imputer_fun.returns_3yr, imputer_fun.returns_5yr)"
   ]
  },
  {
   "cell_type": "code",
   "execution_count": 86,
   "id": "6cd0d11e",
   "metadata": {},
   "outputs": [
    {
     "name": "stdout",
     "output_type": "stream",
     "text": [
      "+--------------------+-------+-----------+-------------+------------+-----------+------------------+-------+-----+-----+-----+------+----------+--------------------+------+-----------------+--------------------+-----------+-------------------+-------------------+\n",
      "|         scheme_name|min_sip|min_lumpsum|expense_ratio|fund_size_cr|fund_age_yr|      fund_manager|sortino|alpha|   sd| beta|sharpe|risk_level|            amc_name|rating|         category|        sub_category|returns_1yr|returns_3yr_imputed|returns_5yr_imputed|\n",
      "+--------------------+-------+-----------+-------------+------------+-----------+------------------+-------+-----+-----+-----+------+----------+--------------------+------+-----------------+--------------------+-----------+-------------------+-------------------+\n",
      "|Aditya Birla SL A...|    100|        100|         0.27|        10.0|         10|    Kaustubh Gupta|   0.32| 2.24| 9.39| 0.01|  0.24|         3|Aditya Birla Sun ...|     3|            Other|       FoFs Domestic|        4.0|                6.5|                6.9|\n",
      "|Aditya Birla SL A...|   1000|       1000|         0.36|      4288.0|         10|  Lovelish Solanki|   1.33| 1.53| 0.72| 0.56|   1.1|         1|Aditya Birla Sun ...|     3|           Hybrid|Arbitrage Mutual ...|        5.6|                4.8|                5.5|\n",
      "|Aditya Birla SL A...|   1000|       1000|         0.53|       157.0|         10|Vinod Narayan Bhat|   3.44| 2.67|10.58| 0.67|  1.42|         5|Aditya Birla Sun ...|     3|            Other|       FoFs Domestic|        2.0|               18.9|                9.7|\n",
      "|Aditya Birla SL B...|    500|       1000|         0.76|       637.0|          4|       Atul Penkar|   2.18|-6.37|14.99| 0.85|   0.9|         6|Aditya Birla Sun ...|     2|Solution Oriented|     Childrens Funds|       -0.7|               17.1|                8.9|\n",
      "|Aditya Birla SL B...|    100|        100|         0.61|      6386.0|         10|      Mohit Sharma|   3.69| 1.99|10.38| 0.68|  1.39|         6|Aditya Birla Sun ...|     4|           Hybrid|Dynamic Asset All...|        4.5|               18.6|                9.7|\n",
      "|Aditya Birla SL B...|   1000|       1000|         1.17|      2384.0|          9|       Dhaval Gala|   2.07| 1.24|25.53| 0.96|  0.97|         6|Aditya Birla Sun ...|     2|           Equity|Sectoral / Themat...|        5.3|               24.6|                9.2|\n",
      "|Aditya Birla SL B...|   1000|       1000|         0.37|      7994.0|         10|    Kaustubh Gupta|   1.92| 4.46| 1.91| 1.78|  1.09|         3|Aditya Birla Sun ...|     4|             Debt|Banking and PSU M...|        4.5|                6.8|                7.3|\n",
      "|Aditya Birla SL C...|   1000|       1000|         1.29|        15.0|         10|Vinod Narayan Bhat|   1.42|    -|20.18|    -|  1.06|         6|Aditya Birla Sun ...|     0|           Equity|Sectoral / Themat...|      -10.3|               29.4|                9.3|\n",
      "|Aditya Birla SL C...|    100|        100|         0.31|     12120.0|         10|    Kaustubh Gupta|   2.28| 2.38| 1.93| 0.78|  1.35|         2|Aditya Birla Sun ...|     4|             Debt|Corporate Bond Mu...|        4.9|                7.1|                7.4|\n",
      "|Aditya Birla SL C...|    100|        100|         0.69|      1032.0|          8|  Sunaina da Cunha|   1.82| 3.01|  2.9|-0.95|  1.47|         4|Aditya Birla Sun ...|     4|             Debt|   Credit Risk Funds|        8.7|                9.0|                7.2|\n",
      "|Aditya Birla SL D...|    100|       1000|         0.88|      3338.0|         10|      Kunal Sangoi|   2.42| 9.37|21.12| 0.83|  1.53|         6|Aditya Birla Sun ...|     0|           Equity|Sectoral / Themat...|      -14.6|               39.8|               21.1|\n",
      "|Aditya Birla SL D...|   1000|       1000|         1.73|       850.0|         10|       Dhaval Gala|   3.78| 5.04|15.77| 0.85|  1.58|         6|Aditya Birla Sun ...|     0|           Equity|Dividend Yield Funds|        6.2|               30.5|               10.0|\n",
      "|Aditya Birla SL D...|   1000|       1000|         0.64|      1795.0|         10|      Mohit Sharma|   1.78| 3.02| 3.22| 0.91|  1.02|         3|Aditya Birla Sun ...|     5|             Debt|        Dynamic Bond|        7.5|                8.0|                6.0|\n",
      "|Aditya Birla SL E...|   1000|       1000|         1.14|      4836.0|         10|       Atul Penkar|   2.21|-2.06|17.61| 0.98|  1.16|         6|Aditya Birla Sun ...|     1|           Equity|Large & Mid Cap F...|       -9.9|               22.3|                7.9|\n",
      "|Aditya Birla SL E...|    100|        100|         1.01|      7046.0|         10|      Mahesh Patil|   2.54| 1.43|12.84| 0.85|  1.33|         6|Aditya Birla Sun ...|     2|           Hybrid|Aggressive Hybrid...|       -5.7|               20.4|                7.7|\n",
      "|Aditya Birla SL E...|   1000|       1000|         1.21|       451.0|          8|       Dhaval Shah|   2.55| 1.11| 6.83| 0.99|   1.2|         4|Aditya Birla Sun ...|     2|           Hybrid|Equity Savings Mu...|        0.8|               11.7|                6.9|\n",
      "|Aditya Birla SL F...|    100|        100|         0.86|     15449.0|         10|         Anil Shah|    3.4|-1.46| 16.6| 0.96|  1.27|         6|Aditya Birla Sun ...|     3|           Equity|     Flexi Cap Funds|       -2.1|               25.0|               10.4|\n",
      "|Aditya Birla SL F...|   1000|       1000|         0.23|     12364.0|         10|    Kaustubh Gupta|   2.81| 3.73| 1.14| 1.37|  1.66|         2|Aditya Birla Sun ...|     5|             Debt|Floater Mutual Funds|        5.8|                6.4|                6.8|\n",
      "|Aditya Birla SL F...|   1000|       1000|         1.06|      5633.0|         10|      Mahesh Patil|   3.24|-1.14|16.09| 0.95|  1.26|         6|Aditya Birla Sun ...|     3|           Equity|       Focused Funds|       -0.7|               24.0|               10.7|\n",
      "|Aditya Birla SL F...|    100|        100|         0.22|       159.0|         10|Vinod Narayan Bhat|   3.13| 1.65|11.73|  0.8|   1.4|         6|Aditya Birla Sun ...|     3|            Other|       FoFs Domestic|        2.5|               21.7|               10.7|\n",
      "+--------------------+-------+-----------+-------------+------------+-----------+------------------+-------+-----+-----+-----+------+----------+--------------------+------+-----------------+--------------------+-----------+-------------------+-------------------+\n",
      "only showing top 20 rows\n",
      "\n"
     ]
    }
   ],
   "source": [
    "imputer_fun.show()"
   ]
  },
  {
   "cell_type": "markdown",
   "id": "56a9b1e4",
   "metadata": {},
   "source": [
    "### One of the most important steps as part of data preprocessing is detecting and treating the outliers as they can negatively affect the statistical analysis and the training process of a machine learning algorithm resulting in lower accuracy."
   ]
  },
  {
   "cell_type": "code",
   "execution_count": 87,
   "id": "ab8c8cad",
   "metadata": {},
   "outputs": [],
   "source": [
    "imputer_fun.write.mode(\"overwrite\").csv(\"/home/amey-didolkar/Indian Market Mutual Fund Data Analysis/dataset-file\")"
   ]
  },
  {
   "cell_type": "code",
   "execution_count": 88,
   "id": "198053f3",
   "metadata": {},
   "outputs": [],
   "source": [
    "#imputer_fun.write.option(\"header\",True).csv(\"/home/amey-didolkar/Indian Market Mutual Fund Data Analysis/dataset-file\")"
   ]
  },
  {
   "cell_type": "code",
   "execution_count": 89,
   "id": "4124ab63",
   "metadata": {},
   "outputs": [
    {
     "data": {
      "text/plain": [
       "'\\nplt.boxplot(imputer_fun[\"imputer_fun.returns_3yr\", \"imputer_fun.returns_5yr\"])\\nplt.show()\\n'"
      ]
     },
     "execution_count": 89,
     "metadata": {},
     "output_type": "execute_result"
    }
   ],
   "source": [
    "\"\"\"\n",
    "plt.boxplot(imputer_fun[\"imputer_fun.returns_3yr\", \"imputer_fun.returns_5yr\"])\n",
    "plt.show()\n",
    "\"\"\""
   ]
  },
  {
   "cell_type": "code",
   "execution_count": 90,
   "id": "338f24ae",
   "metadata": {},
   "outputs": [
    {
     "name": "stdout",
     "output_type": "stream",
     "text": [
      "root\n",
      " |-- scheme_name: string (nullable = true)\n",
      " |-- min_sip: integer (nullable = true)\n",
      " |-- min_lumpsum: integer (nullable = true)\n",
      " |-- expense_ratio: double (nullable = true)\n",
      " |-- fund_size_cr: double (nullable = true)\n",
      " |-- fund_age_yr: integer (nullable = true)\n",
      " |-- fund_manager: string (nullable = true)\n",
      " |-- sortino: string (nullable = true)\n",
      " |-- alpha: string (nullable = true)\n",
      " |-- sd: string (nullable = true)\n",
      " |-- beta: string (nullable = true)\n",
      " |-- sharpe: string (nullable = true)\n",
      " |-- risk_level: integer (nullable = true)\n",
      " |-- amc_name: string (nullable = true)\n",
      " |-- rating: integer (nullable = true)\n",
      " |-- category: string (nullable = true)\n",
      " |-- sub_category: string (nullable = true)\n",
      " |-- returns_1yr: double (nullable = true)\n",
      " |-- returns_3yr_imputed: double (nullable = true)\n",
      " |-- returns_5yr_imputed: double (nullable = true)\n",
      "\n"
     ]
    }
   ],
   "source": [
    "imputer_fun.printSchema()"
   ]
  },
  {
   "cell_type": "code",
   "execution_count": 91,
   "id": "a17b2483",
   "metadata": {},
   "outputs": [
    {
     "name": "stdout",
     "output_type": "stream",
     "text": [
      "+--------------------+-------+-----------+-------------+------------+-----------+------------------+-------+-----+-----+----+------+----------+--------------------+------+-----------------+--------------------+-----------+-------------------+-------------------+\n",
      "|         scheme_name|min_sip|min_lumpsum|expense_ratio|fund_size_cr|fund_age_yr|      fund_manager|sortino|alpha|   sd|beta|sharpe|risk_level|            amc_name|rating|         category|        sub_category|returns_1yr|returns_3yr_imputed|returns_5yr_imputed|\n",
      "+--------------------+-------+-----------+-------------+------------+-----------+------------------+-------+-----+-----+----+------+----------+--------------------+------+-----------------+--------------------+-----------+-------------------+-------------------+\n",
      "|Bank of India Mid...|      0|        500|         0.95|        51.0|          5|      Dhruv Bhatia|   2.64| 3.13|17.03|0.87|  1.38|         6|Bank of India Mut...|     0|           Equity|   ELSS Mutual Funds|       -4.1|               27.1|               10.6|\n",
      "|HDFC Housing Oppo...|    100|        100|         1.28|      1081.0|          5|       Rakesh Vyas|    2.5| 0.23|19.34|   1|  1.23|         6|    HDFC Mutual Fund|     0|           Equity|Sectoral / Themat...|        9.8|               27.1|                7.9|\n",
      "|Bank of India Mid...|      0|        500|         0.56|        26.0|          4|      Dhruv Bhatia|   2.65| 2.58|16.94|0.87|  1.36|         6|Bank of India Mut...|     0|           Equity|   ELSS Mutual Funds|       -4.7|               26.0|                8.9|\n",
      "|Aditya Birla SL D...|    100|       1000|         0.88|      3338.0|         10|      Kunal Sangoi|   2.42| 9.37|21.12|0.83|  1.53|         6|Aditya Birla Sun ...|     0|           Equity|Sectoral / Themat...|      -14.6|               39.8|               21.1|\n",
      "| DSP Healthcare Fund|    500|        500|         1.04|      1197.0|          4|      Vinit Sambre|   2.42| 6.84|17.83|0.78|  1.19|         6|     DSP Mutual Fund|     0|           Equity|Sectoral / Themat...|       -3.6|               26.9|                8.9|\n",
      "|DSP Natural Resou...|    500|        500|         1.21|       673.0|         10|   Rohit Singhania|   2.31|21.48|23.46|0.43|  1.39|         6|     DSP Mutual Fund|     0|           Equity|Sectoral / Themat...|       -0.7|               44.3|               12.0|\n",
      "|Aditya Birla SL G...|    100|        100|          0.7|       261.0|         10|Vinod Narayan Bhat|   0.98|    -|16.64|   -|   0.7|         6|Aditya Birla Sun ...|     0|            Other|       FoFs Overseas|       -5.7|               18.8|                8.3|\n",
      "|DSP US Flexible E...|    500|        500|         1.52|       770.0|         10|       Jay Kothari|   1.95|    -| 16.4|   -|   1.1|         6|     DSP Mutual Fund|     0|            Other|       FoFs Overseas|        2.2|               23.8|               13.6|\n",
      "|Aditya Birla SL I...|   1000|       1000|         2.15|        90.0|         10|Vinod Narayan Bhat|   2.45|-1.93| 16.3|0.87|  1.14|         6|Aditya Birla Sun ...|     0|           Equity|Sectoral / Themat...|       -4.1|               22.7|                7.6|\n",
      "| DSP World Gold Fund|    500|        500|         1.81|       777.0|         10|       Jay Kothari|   1.11|    -|36.51|   -|   0.4|         6|     DSP Mutual Fund|     0|            Other|       FoFs Overseas|       -9.0|               14.8|               10.2|\n",
      "|AXIS Children’s G...|   1000|       5000|         1.06|       685.0|          7|       Ashish Naik|   2.34| -1.6|12.97|0.86|   1.1|         6|    Axis Mutual Fund|     0|Solution Oriented|     Childrens Funds|       -6.5|               17.8|               10.1|\n",
      "|DSP World Mining ...|    500|        500|          1.5|       188.0|         10|       Jay Kothari|   1.68|    -|28.33|   -|  1.08|         6|     DSP Mutual Fund|     0|            Other|       FoFs Overseas|       -5.4|               37.1|               15.0|\n",
      "|AXIS FTP – Series...|      0|          0|          0.0|       565.0|          1|       Devang Shah|      -|    -|    -|   -|     -|         3|    Axis Mutual Fund|     0|             Debt|Fixed Maturity Plans|       11.2|               14.5|               14.0|\n",
      "|Edelweiss Europe ...|    500|       5000|          1.5|        83.0|          9|      Bhavesh Jain|   1.64|    -|19.12|   -|  0.93|         6|Edelweiss Mutual ...|     0|            Other|       FoFs Overseas|        9.2|               25.2|                7.6|\n",
      "|Bandhan FTP – Sr.179|      0|       5000|         0.05|       286.0|          4|     Harshal Joshi|    0.9| 9.78| 3.98| 5.4|  0.64|         3| Bandhan Mutual Fund|     0|             Debt|Fixed Maturity Plans|        4.4|                6.2|                8.9|\n",
      "|Edelweiss Greater...|    500|       5000|         1.44|      1897.0|         10|      Bhavesh Jain|    0.6|    -|25.75|   -|   0.3|         6|Edelweiss Mutual ...|     0|            Other|       FoFs Overseas|       -4.1|                9.0|                6.1|\n",
      "|Aditya Birla SL D...|   1000|       1000|         1.73|       850.0|         10|       Dhaval Gala|   3.78| 5.04|15.77|0.85|  1.58|         6|Aditya Birla Sun ...|     0|           Equity|Dividend Yield Funds|        6.2|               30.5|               10.0|\n",
      "|Edelweiss Recentl...|    500|       5000|         0.61|       859.0|          5|      Bhavesh Jain|   1.63| 0.04|17.77|0.83|  1.09|         6|Edelweiss Mutual ...|     0|           Equity|Sectoral / Themat...|      -13.8|               24.3|               10.9|\n",
      "|HDFC Children’s G...|    100|        100|         0.96|      6157.0|         10|   Chirag Setalvad|   4.11| 7.62|11.58|0.76|  1.87|         6|    HDFC Mutual Fund|     0|Solution Oriented|     Childrens Funds|       10.5|               26.8|               12.9|\n",
      "|Edelweiss US Valu...|    500|       5000|         1.43|        90.0|         10|      Bhavesh Jain|   2.17|    -|16.38|   -|  1.03|         6|Edelweiss Mutual ...|     0|            Other|       FoFs Overseas|        2.0|               23.8|               11.5|\n",
      "+--------------------+-------+-----------+-------------+------------+-----------+------------------+-------+-----+-----+----+------+----------+--------------------+------+-----------------+--------------------+-----------+-------------------+-------------------+\n",
      "only showing top 20 rows\n",
      "\n"
     ]
    }
   ],
   "source": [
    "# Select columns and sort by a column in ascending order\n",
    "selected_and_sorted = imputer_fun.select(\"scheme_name\", \"min_sip\", \"min_lumpsum\", \"expense_ratio\", \"fund_size_cr\", \"fund_age_yr\", \"fund_manager\", \"sortino\", \"alpha\", \"sd\", \"beta\", \"sharpe\", \"risk_level\", \"amc_name\", \"rating\", \"category\", \"sub_category\", \"returns_1yr\", \"returns_3yr_imputed\", \"returns_5yr_imputed\").orderBy(\"rating\")\n",
    "\n",
    "# Show the sorted DataFrame\n",
    "selected_and_sorted.show()"
   ]
  },
  {
   "cell_type": "code",
   "execution_count": 94,
   "id": "f8f618e2",
   "metadata": {},
   "outputs": [],
   "source": [
    "selected_columns = imputer_fun.select(\"rating\", \"returns_3yr_imputed\", \"returns_5yr_imputed\")"
   ]
  },
  {
   "cell_type": "code",
   "execution_count": 101,
   "id": "9174d9eb",
   "metadata": {},
   "outputs": [
    {
     "name": "stdout",
     "output_type": "stream",
     "text": [
      "+------+-------------------+-------------------+\n",
      "|rating|returns_3yr_imputed|returns_5yr_imputed|\n",
      "+------+-------------------+-------------------+\n",
      "|     3|                6.5|                6.9|\n",
      "|     3|                4.8|                5.5|\n",
      "|     3|               18.9|                9.7|\n",
      "|     2|               17.1|                8.9|\n",
      "|     4|               18.6|                9.7|\n",
      "|     2|               24.6|                9.2|\n",
      "|     4|                6.8|                7.3|\n",
      "|     0|               29.4|                9.3|\n",
      "|     4|                7.1|                7.4|\n",
      "|     4|                9.0|                7.2|\n",
      "|     0|               39.8|               21.1|\n",
      "|     0|               30.5|               10.0|\n",
      "|     5|                8.0|                6.0|\n",
      "|     1|               22.3|                7.9|\n",
      "|     2|               20.4|                7.7|\n",
      "|     2|               11.7|                6.9|\n",
      "|     3|               25.0|               10.4|\n",
      "|     5|                6.4|                6.8|\n",
      "|     3|               24.0|               10.7|\n",
      "|     3|               21.7|               10.7|\n",
      "+------+-------------------+-------------------+\n",
      "only showing top 20 rows\n",
      "\n"
     ]
    }
   ],
   "source": [
    "selected_columns.show()"
   ]
  },
  {
   "cell_type": "code",
   "execution_count": 100,
   "id": "45550033",
   "metadata": {},
   "outputs": [
    {
     "name": "stdout",
     "output_type": "stream",
     "text": [
      "+------+-------------------+-------------------+\n",
      "|rating|returns_3yr_imputed|returns_5yr_imputed|\n",
      "+------+-------------------+-------------------+\n",
      "|     2|                3.3|                4.5|\n",
      "|     1|                3.3|                8.9|\n",
      "|     1|                3.3|                2.8|\n",
      "|     1|                3.4|                8.9|\n",
      "|     1|                3.7|                4.5|\n",
      "|     2|                3.8|                4.6|\n",
      "|     2|                3.8|                8.9|\n",
      "|     1|                3.8|                8.9|\n",
      "|     1|                3.8|                8.9|\n",
      "|     3|                3.8|                8.9|\n",
      "|     1|                3.8|                8.9|\n",
      "|     1|                3.8|                8.9|\n",
      "|     2|                3.9|                4.8|\n",
      "|     3|                3.9|                8.9|\n",
      "|     5|                3.9|                8.9|\n",
      "|     3|                3.9|                8.9|\n",
      "|     3|                3.9|                8.9|\n",
      "|     4|                3.9|                8.9|\n",
      "|     2|                3.9|                8.9|\n",
      "|     2|                3.9|                8.9|\n",
      "+------+-------------------+-------------------+\n",
      "only showing top 20 rows\n",
      "\n"
     ]
    }
   ],
   "source": [
    "selected_columns.orderBy(imputer_fun.returns_3yr_imputed.asc()).show()"
   ]
  },
  {
   "cell_type": "code",
   "execution_count": null,
   "id": "a011af8e",
   "metadata": {},
   "outputs": [],
   "source": []
  },
  {
   "cell_type": "code",
   "execution_count": 41,
   "id": "9d21d1c2",
   "metadata": {},
   "outputs": [
    {
     "name": "stdout",
     "output_type": "stream",
     "text": [
      "+--------------------+-------+-----------+-------------+------------+-----------+------------------+-------+-----+-----+----+------+----------+--------------------+------+-----------------+--------------------+-----------+-------------------+-------------------+\n",
      "|         scheme_name|min_sip|min_lumpsum|expense_ratio|fund_size_cr|fund_age_yr|      fund_manager|sortino|alpha|   sd|beta|sharpe|risk_level|            amc_name|rating|         category|        sub_category|returns_1yr|returns_3yr_imputed|returns_5yr_imputed|\n",
      "+--------------------+-------+-----------+-------------+------------+-----------+------------------+-------+-----+-----+----+------+----------+--------------------+------+-----------------+--------------------+-----------+-------------------+-------------------+\n",
      "|Bank of India Mid...|      0|        500|         0.95|        51.0|          5|      Dhruv Bhatia|   2.64| 3.13|17.03|0.87|  1.38|         6|Bank of India Mut...|     0|           Equity|   ELSS Mutual Funds|       -4.1|               27.1|               10.6|\n",
      "|HDFC Housing Oppo...|    100|        100|         1.28|      1081.0|          5|       Rakesh Vyas|    2.5| 0.23|19.34|   1|  1.23|         6|    HDFC Mutual Fund|     0|           Equity|Sectoral / Themat...|        9.8|               27.1|                7.9|\n",
      "|Bank of India Mid...|      0|        500|         0.56|        26.0|          4|      Dhruv Bhatia|   2.65| 2.58|16.94|0.87|  1.36|         6|Bank of India Mut...|     0|           Equity|   ELSS Mutual Funds|       -4.7|               26.0|                8.9|\n",
      "|Aditya Birla SL D...|    100|       1000|         0.88|      3338.0|         10|      Kunal Sangoi|   2.42| 9.37|21.12|0.83|  1.53|         6|Aditya Birla Sun ...|     0|           Equity|Sectoral / Themat...|      -14.6|               39.8|               21.1|\n",
      "| DSP Healthcare Fund|    500|        500|         1.04|      1197.0|          4|      Vinit Sambre|   2.42| 6.84|17.83|0.78|  1.19|         6|     DSP Mutual Fund|     0|           Equity|Sectoral / Themat...|       -3.6|               26.9|                8.9|\n",
      "|DSP Natural Resou...|    500|        500|         1.21|       673.0|         10|   Rohit Singhania|   2.31|21.48|23.46|0.43|  1.39|         6|     DSP Mutual Fund|     0|           Equity|Sectoral / Themat...|       -0.7|               44.3|               12.0|\n",
      "|Aditya Birla SL G...|    100|        100|          0.7|       261.0|         10|Vinod Narayan Bhat|   0.98|    -|16.64|   -|   0.7|         6|Aditya Birla Sun ...|     0|            Other|       FoFs Overseas|       -5.7|               18.8|                8.3|\n",
      "|DSP US Flexible E...|    500|        500|         1.52|       770.0|         10|       Jay Kothari|   1.95|    -| 16.4|   -|   1.1|         6|     DSP Mutual Fund|     0|            Other|       FoFs Overseas|        2.2|               23.8|               13.6|\n",
      "|Aditya Birla SL I...|   1000|       1000|         2.15|        90.0|         10|Vinod Narayan Bhat|   2.45|-1.93| 16.3|0.87|  1.14|         6|Aditya Birla Sun ...|     0|           Equity|Sectoral / Themat...|       -4.1|               22.7|                7.6|\n",
      "| DSP World Gold Fund|    500|        500|         1.81|       777.0|         10|       Jay Kothari|   1.11|    -|36.51|   -|   0.4|         6|     DSP Mutual Fund|     0|            Other|       FoFs Overseas|       -9.0|               14.8|               10.2|\n",
      "|AXIS Children’s G...|   1000|       5000|         1.06|       685.0|          7|       Ashish Naik|   2.34| -1.6|12.97|0.86|   1.1|         6|    Axis Mutual Fund|     0|Solution Oriented|     Childrens Funds|       -6.5|               17.8|               10.1|\n",
      "|DSP World Mining ...|    500|        500|          1.5|       188.0|         10|       Jay Kothari|   1.68|    -|28.33|   -|  1.08|         6|     DSP Mutual Fund|     0|            Other|       FoFs Overseas|       -5.4|               37.1|               15.0|\n",
      "|AXIS FTP – Series...|      0|          0|          0.0|       565.0|          1|       Devang Shah|      -|    -|    -|   -|     -|         3|    Axis Mutual Fund|     0|             Debt|Fixed Maturity Plans|       11.2|               14.5|               14.0|\n",
      "|Edelweiss Europe ...|    500|       5000|          1.5|        83.0|          9|      Bhavesh Jain|   1.64|    -|19.12|   -|  0.93|         6|Edelweiss Mutual ...|     0|            Other|       FoFs Overseas|        9.2|               25.2|                7.6|\n",
      "|Bandhan FTP – Sr.179|      0|       5000|         0.05|       286.0|          4|     Harshal Joshi|    0.9| 9.78| 3.98| 5.4|  0.64|         3| Bandhan Mutual Fund|     0|             Debt|Fixed Maturity Plans|        4.4|                6.2|                8.9|\n",
      "|Edelweiss Greater...|    500|       5000|         1.44|      1897.0|         10|      Bhavesh Jain|    0.6|    -|25.75|   -|   0.3|         6|Edelweiss Mutual ...|     0|            Other|       FoFs Overseas|       -4.1|                9.0|                6.1|\n",
      "|Aditya Birla SL D...|   1000|       1000|         1.73|       850.0|         10|       Dhaval Gala|   3.78| 5.04|15.77|0.85|  1.58|         6|Aditya Birla Sun ...|     0|           Equity|Dividend Yield Funds|        6.2|               30.5|               10.0|\n",
      "|Edelweiss Recentl...|    500|       5000|         0.61|       859.0|          5|      Bhavesh Jain|   1.63| 0.04|17.77|0.83|  1.09|         6|Edelweiss Mutual ...|     0|           Equity|Sectoral / Themat...|      -13.8|               24.3|               10.9|\n",
      "|HDFC Children’s G...|    100|        100|         0.96|      6157.0|         10|   Chirag Setalvad|   4.11| 7.62|11.58|0.76|  1.87|         6|    HDFC Mutual Fund|     0|Solution Oriented|     Childrens Funds|       10.5|               26.8|               12.9|\n",
      "|Edelweiss US Valu...|    500|       5000|         1.43|        90.0|         10|      Bhavesh Jain|   2.17|    -|16.38|   -|  1.03|         6|Edelweiss Mutual ...|     0|            Other|       FoFs Overseas|        2.0|               23.8|               11.5|\n",
      "+--------------------+-------+-----------+-------------+------------+-----------+------------------+-------+-----+-----+----+------+----------+--------------------+------+-----------------+--------------------+-----------+-------------------+-------------------+\n",
      "only showing top 20 rows\n",
      "\n"
     ]
    }
   ],
   "source": [
    "imputer_fun = imputer_fun.orderBy(imputer_fun.rating.asc()).show()"
   ]
  },
  {
   "cell_type": "code",
   "execution_count": 44,
   "id": "e169ca1b",
   "metadata": {},
   "outputs": [
    {
     "data": {
      "text/plain": [
       "'\\n# Create a DataFrame from the data\\n#df = spark.createDataFrame(imputer_fun)\\n\\n# CSV file path\\ncsv_path = \"/home/amey-didolkar/Indian Market Mutual Fund Data Analysis/dataset-file/indianmf.csv\"\\n\\n# Save DataFrame to CSV with header and overwrite\\nimputer_fun.write.option(\"header\", \"true\").mode(\"overwrite\").csv(csv_path)\\n\\n# Stop the Spark session\\nspark.stop()\\n'"
      ]
     },
     "execution_count": 44,
     "metadata": {},
     "output_type": "execute_result"
    }
   ],
   "source": [
    "\"\"\"\n",
    "# Create a DataFrame from the data\n",
    "#df = spark.createDataFrame(imputer_fun)\n",
    "\n",
    "# CSV file path\n",
    "csv_path = \"/home/amey-didolkar/Indian Market Mutual Fund Data Analysis/dataset-file/indianmf.csv\"\n",
    "\n",
    "# Save DataFrame to CSV with header and overwrite\n",
    "imputer_fun.write.option(\"header\", \"true\").mode(\"overwrite\").csv(csv_path)\n",
    "\n",
    "\"\"\""
   ]
  },
  {
   "cell_type": "markdown",
   "id": "e426d3d5",
   "metadata": {},
   "source": [
    "### If you have domain knowledge, you can handle outliers in a way that makes sense for your specific problem. For example, in finance, outliers might represent fraud, so they could be flagged for further investigation."
   ]
  },
  {
   "cell_type": "code",
   "execution_count": 103,
   "id": "3441f973",
   "metadata": {},
   "outputs": [],
   "source": [
    "pandas_df = imputer_fun.toPandas()"
   ]
  },
  {
   "cell_type": "code",
   "execution_count": 113,
   "id": "257c3f21",
   "metadata": {},
   "outputs": [
    {
     "data": {
      "image/png": "[encoded data removed]",
      "text/plain": [
       "<Figure size 1000x600 with 1 Axes>"
      ]
     },
     "metadata": {},
     "output_type": "display_data"
    }
   ],
   "source": [
    "plt.figure(figsize=(10, 6))\n",
    "pandas_df.boxplot(column=[\"returns_1yr\", \"returns_3yr_imputed\", \"returns_5yr_imputed\"], vert=False)\n",
    "plt.title(\"Box Plots of Values\")\n",
    "#plt.ylabel(\"Value\")\n",
    "plt.show()"
   ]
  },
  {
   "cell_type": "code",
   "execution_count": null,
   "id": "fbb708cb",
   "metadata": {},
   "outputs": [],
   "source": []
  },
  {
   "cell_type": "code",
   "execution_count": null,
   "id": "e0b4ae10",
   "metadata": {},
   "outputs": [],
   "source": []
  },
  {
   "cell_type": "code",
   "execution_count": null,
   "id": "58238c18",
   "metadata": {},
   "outputs": [],
   "source": []
  },
  {
   "cell_type": "code",
   "execution_count": null,
   "id": "311e05f8",
   "metadata": {},
   "outputs": [],
   "source": []
  },
  {
   "cell_type": "code",
   "execution_count": null,
   "id": "e998d55c",
   "metadata": {},
   "outputs": [],
   "source": []
  },
  {
   "cell_type": "code",
   "execution_count": null,
   "id": "b232d7f4",
   "metadata": {},
   "outputs": [],
   "source": []
  },
  {
   "cell_type": "code",
   "execution_count": null,
   "id": "081fbac5",
   "metadata": {},
   "outputs": [],
   "source": []
  },
  {
   "cell_type": "code",
   "execution_count": null,
   "id": "b8dac971",
   "metadata": {},
   "outputs": [],
   "source": []
  },
  {
   "cell_type": "code",
   "execution_count": null,
   "id": "3e46cb6a",
   "metadata": {},
   "outputs": [],
   "source": []
  },
  {
   "cell_type": "code",
   "execution_count": null,
   "id": "13ed5afd",
   "metadata": {},
   "outputs": [],
   "source": []
  },
  {
   "cell_type": "code",
   "execution_count": null,
   "id": "a32c24b8",
   "metadata": {},
   "outputs": [],
   "source": []
  },
  {
   "cell_type": "code",
   "execution_count": null,
   "id": "100bed34",
   "metadata": {},
   "outputs": [],
   "source": []
  },
  {
   "cell_type": "code",
   "execution_count": null,
   "id": "c410c1a1",
   "metadata": {},
   "outputs": [],
   "source": []
  },
  {
   "cell_type": "code",
   "execution_count": null,
   "id": "6250284a",
   "metadata": {},
   "outputs": [],
   "source": []
  },
  {
   "cell_type": "code",
   "execution_count": null,
   "id": "2abcaf7a",
   "metadata": {},
   "outputs": [],
   "source": []
  }
 ],
 "metadata": {
  "kernelspec": {
   "display_name": "Python 3 (ipykernel)",
   "language": "python",
   "name": "python3"
  },
  "language_info": {
   "codemirror_mode": {
    "name": "ipython",
    "version": 3
   },
   "file_extension": ".py",
   "mimetype": "text/x-python",
   "name": "python",
   "nbconvert_exporter": "python",
   "pygments_lexer": "ipython3",
   "version": "3.11.4"
  }
 },
 "nbformat": 4,
 "nbformat_minor": 5
}
